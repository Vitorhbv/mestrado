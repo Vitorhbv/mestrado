{
 "cells": [
  {
   "cell_type": "code",
   "execution_count": null,
   "id": "8e0cbc47",
   "metadata": {},
   "outputs": [],
   "source": [
    "import pyreadr\n",
    "import numpy as np\n",
    "\n",
    "result = pyreadr.read_r(\"SMRi ordered - Brazil\")   # também lê .RData\n",
    "obj = next(iter(result.values()))        # pega o único objeto do .rds\n",
    "\n",
    "# se for um data frame R, vira um pandas.DataFrame\n",
    "import pandas as pd\n",
    "df = obj if isinstance(obj, pd.DataFrame) else None\n",
    "df"
   ]
  },
  {
   "cell_type": "code",
   "execution_count": null,
   "id": "ff3084b1",
   "metadata": {},
   "outputs": [],
   "source": [
    "vars_cols = df.var()   \n",
    "vars_cols.head()"
   ]
  },
  {
   "cell_type": "code",
   "execution_count": null,
   "id": "3a681157",
   "metadata": {},
   "outputs": [],
   "source": [
    "df_std = df.copy()\n",
    "\n",
    "#vamos padronizar as colunas \n",
    "mu = df_std.mean(axis=0)\n",
    "sd = df_std.std(axis=0, ddof=0)  # desvio padrão populacional (ddof=0)\n",
    "\n",
    "# evita divisão por zero (coluna constante). Aqui descartamos constantes.\n",
    "keep = sd > 0\n",
    "\n",
    "# Y é o DataFrame padronizado\n",
    "Y = ((df_std.loc[:, keep] - mu[keep]) / sd[keep]).fillna(0.0)\n",
    "print(Y.values, Y.shape)\n",
    "Y.var().head()"
   ]
  },
  {
   "cell_type": "code",
   "execution_count": null,
   "id": "6e7ac6a5",
   "metadata": {},
   "outputs": [],
   "source": [
    "# Agora sim, podemos fazer a SVD\n",
    "from numpy.linalg import svd\n",
    "\n",
    "# X = M S Vt\n",
    "M, S, Vt = svd(Y.values, full_matrices=False)\n",
    "print(M.shape, S.shape, Vt.shape)  # M:(n×q), S:(q,), Vt:(q×q)"
   ]
  },
  {
   "cell_type": "code",
   "execution_count": null,
   "id": "50eeb99a",
   "metadata": {},
   "outputs": [],
   "source": [
    "# --- 3) Gavish–Donoho para escolher K ---\n",
    "n, q = Y.shape\n",
    "\n",
    "beta = min(q / n, n / q)\n",
    "sigma_median = np.median(S)\n",
    "omega = 0.56*beta**3 - 0.95*beta**2 + 1.82*beta + 1.43\n",
    "tau = omega * sigma_median\n",
    "K = np.sum(S >= tau)\n",
    "print(f\"n={n}, q={q}, beta={beta:.3f}, omega={omega:.3f}, tau={tau:.3f}, K={K}\")"
   ]
  }
 ],
 "metadata": {
  "kernelspec": {
   "display_name": ".venv",
   "language": "python",
   "name": "python3"
  },
  "language_info": {
   "codemirror_mode": {
    "name": "ipython",
    "version": 3
   },
   "file_extension": ".py",
   "mimetype": "text/x-python",
   "name": "python",
   "nbconvert_exporter": "python",
   "pygments_lexer": "ipython3",
   "version": "3.11.9"
  }
 },
 "nbformat": 4,
 "nbformat_minor": 5
}
